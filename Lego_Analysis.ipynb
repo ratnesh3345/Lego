{
 
  },
  {
   "cell_type": "code",
   "execution_count": 77,
   "id": "0293119b-b8dd-4b3c-9731-fdb53079f696",
   "metadata": {},
   "outputs": [],
   "source": [
    "#import statements\n",
    "import pandas as pd\n",
    "import matplotlib.pyplot as plt"
   ]
  },
  {
   "cell_type": "code",
   "execution_count": 6,
   "id": "4c7cd7ec-ab5f-4c4c-9225-8a6d5b1863ce",
   "metadata": {},
   "outputs": [
    {
     "data": {
      "text/html": [
       "<div>\n",
       "<style scoped>\n",
       "    .dataframe tbody tr th:only-of-type {\n",
       "        vertical-align: middle;\n",
       "    }\n",
       "\n",
       "    .dataframe tbody tr th {\n",
       "        vertical-align: top;\n",
       "    }\n",
       "\n",
       "    .dataframe thead th {\n",
       "        text-align: right;\n",
       "    }\n",
       "</style>\n",
       "<table border=\"1\" class=\"dataframe\">\n",
       "  <thead>\n",
       "    <tr style=\"text-align: right;\">\n",
       "      <th></th>\n",
       "      <th>id</th>\n",
       "      <th>name</th>\n",
       "      <th>rgb</th>\n",
       "      <th>is_trans</th>\n",
       "    </tr>\n",
       "  </thead>\n",
       "  <tbody>\n",
       "    <tr>\n",
       "      <th>0</th>\n",
       "      <td>-1</td>\n",
       "      <td>Unknown</td>\n",
       "      <td>0033B2</td>\n",
       "      <td>f</td>\n",
       "    </tr>\n",
       "    <tr>\n",
       "      <th>1</th>\n",
       "      <td>0</td>\n",
       "      <td>Black</td>\n",
       "      <td>05131D</td>\n",
       "      <td>f</td>\n",
       "    </tr>\n",
       "    <tr>\n",
       "      <th>2</th>\n",
       "      <td>1</td>\n",
       "      <td>Blue</td>\n",
       "      <td>0055BF</td>\n",
       "      <td>f</td>\n",
       "    </tr>\n",
       "    <tr>\n",
       "      <th>3</th>\n",
       "      <td>2</td>\n",
       "      <td>Green</td>\n",
       "      <td>237841</td>\n",
       "      <td>f</td>\n",
       "    </tr>\n",
       "    <tr>\n",
       "      <th>4</th>\n",
       "      <td>3</td>\n",
       "      <td>Dark Turquoise</td>\n",
       "      <td>008F9B</td>\n",
       "      <td>f</td>\n",
       "    </tr>\n",
       "  </tbody>\n",
       "</table>\n",
       "</div>"
      ],
      "text/plain": [
       "   id            name     rgb is_trans\n",
       "0  -1         Unknown  0033B2        f\n",
       "1   0           Black  05131D        f\n",
       "2   1            Blue  0055BF        f\n",
       "3   2           Green  237841        f\n",
       "4   3  Dark Turquoise  008F9B        f"
      ]
     },
     "execution_count": 6,
     "metadata": {},
     "output_type": "execute_result"
    }
   ],
   "source": [
    "colors_data = pd.read_csv(\"data/colors.csv\")\n",
    "colors_data.head()"
   ]
  },
  {
   "cell_type": "code",
   "execution_count": 8,
   "id": "722562d5-98c8-48ba-b136-669b421387c5",
   "metadata": {},
   "outputs": [
    {
     "data": {
      "text/plain": [
       "id          135\n",
       "name        135\n",
       "rgb         124\n",
       "is_trans      2\n",
       "dtype: int64"
      ]
     },
     "execution_count": 8,
     "metadata": {},
     "output_type": "execute_result"
    }
   ],
   "source": [
    "colors_data.nunique()"
   ]
  },
  {
   "cell_type": "code",
   "execution_count": 22,
   "id": "11dabc55-1594-436c-9d09-f1872ed396c6",
   "metadata": {},
   "outputs": [
    {
     "data": {
      "text/html": [
       "<div>\n",
       "<style scoped>\n",
       "    .dataframe tbody tr th:only-of-type {\n",
       "        vertical-align: middle;\n",
       "    }\n",
       "\n",
       "    .dataframe tbody tr th {\n",
       "        vertical-align: top;\n",
       "    }\n",
       "\n",
       "    .dataframe thead th {\n",
       "        text-align: right;\n",
       "    }\n",
       "</style>\n",
       "<table border=\"1\" class=\"dataframe\">\n",
       "  <thead>\n",
       "    <tr style=\"text-align: right;\">\n",
       "      <th></th>\n",
       "      <th>id</th>\n",
       "      <th>name</th>\n",
       "      <th>rgb</th>\n",
       "    </tr>\n",
       "    <tr>\n",
       "      <th>is_trans</th>\n",
       "      <th></th>\n",
       "      <th></th>\n",
       "      <th></th>\n",
       "    </tr>\n",
       "  </thead>\n",
       "  <tbody>\n",
       "    <tr>\n",
       "      <th>f</th>\n",
       "      <td>107</td>\n",
       "      <td>107</td>\n",
       "      <td>107</td>\n",
       "    </tr>\n",
       "    <tr>\n",
       "      <th>t</th>\n",
       "      <td>28</td>\n",
       "      <td>28</td>\n",
       "      <td>28</td>\n",
       "    </tr>\n",
       "  </tbody>\n",
       "</table>\n",
       "</div>"
      ],
      "text/plain": [
       "           id  name  rgb\n",
       "is_trans                \n",
       "f         107   107  107\n",
       "t          28    28   28"
      ]
     },
     "execution_count": 22,
     "metadata": {},
     "output_type": "execute_result"
    }
   ],
   "source": [
    "colors_data.groupby(\"is_trans\").count()"
   ]
  },
  {
   "cell_type": "code",
   "execution_count": 28,
   "id": "b0082a59-cfc0-4a07-9fff-0bb4a7535ca9",
   "metadata": {},
   "outputs": [
    {
     "data": {
      "text/plain": [
       "is_trans\n",
       "f    107\n",
       "t     28\n",
       "Name: count, dtype: int64"
      ]
     },
     "execution_count": 28,
     "metadata": {},
     "output_type": "execute_result"
    }
   ],
   "source": [
    "colors_data[\"is_trans\"].value_counts()"
   ]
  },
  {
   "cell_type": "markdown",
   "id": "dbc705f6-4d2a-4ae2-b5ab-0a7c016a7be3",
   "metadata": {},
   "source": [
    "<h3>Understanding LEGO Themes vs. LEGO Sets</h3>"
   ]
  },
  {
   "cell_type": "markdown",
   "id": "fcf76602-e9c8-431f-b5f6-128407cfc8ed",
   "metadata": {},
   "source": [
    "<p>Walk into a LEGO store and you will see their products organised by theme. Their themes include Star Wars, Batman, Harry Potter and many more.</p>"
   ]
  },
  {
   "cell_type": "markdown",
   "id": "5e9e0888-fc4c-493d-9adb-e0242d46c3f0",
   "metadata": {},
   "source": [
    "<img src=\"https://i.imgur.com/aKcwkSx.png\">"
   ]
  },
  {
   "cell_type": "markdown",
   "id": "0a16630c-396c-40cd-a1c7-3bdf0916f377",
   "metadata": {},
   "source": [
    "<p>A lego <b>set</b> is a particular box of LEGO or product. Therefore, a single theme typically has many different sets.</p>"
   ]
  },
  {
   "cell_type": "markdown",
   "id": "22c83ead-0d40-43ac-a8d0-62e905c6ee72",
   "metadata": {},
   "source": [
    "<img src=\"https://i.imgur.com/whB1olq.png\">"
   ]
  },
  {
   "cell_type": "code",
   "execution_count": 37,
   "id": "a3bd7e93-e0fb-4294-a273-c4d07965316e",
   "metadata": {},
   "outputs": [],
   "source": [
    "sets_df = pd.read_csv(\"data/sets.csv\")"
   ]
  },
  {
   "cell_type": "code",
   "execution_count": 39,
   "id": "90ff08fd-35ca-4d28-9d1f-6bb7c451f3b1",
   "metadata": {},
   "outputs": [
    {
     "data": {
      "text/html": [
       "<div>\n",
       "<style scoped>\n",
       "    .dataframe tbody tr th:only-of-type {\n",
       "        vertical-align: middle;\n",
       "    }\n",
       "\n",
       "    .dataframe tbody tr th {\n",
       "        vertical-align: top;\n",
       "    }\n",
       "\n",
       "    .dataframe thead th {\n",
       "        text-align: right;\n",
       "    }\n",
       "</style>\n",
       "<table border=\"1\" class=\"dataframe\">\n",
       "  <thead>\n",
       "    <tr style=\"text-align: right;\">\n",
       "      <th></th>\n",
       "      <th>set_num</th>\n",
       "      <th>name</th>\n",
       "      <th>year</th>\n",
       "      <th>theme_id</th>\n",
       "      <th>num_parts</th>\n",
       "    </tr>\n",
       "  </thead>\n",
       "  <tbody>\n",
       "    <tr>\n",
       "      <th>0</th>\n",
       "      <td>001-1</td>\n",
       "      <td>Gears</td>\n",
       "      <td>1965</td>\n",
       "      <td>1</td>\n",
       "      <td>43</td>\n",
       "    </tr>\n",
       "    <tr>\n",
       "      <th>1</th>\n",
       "      <td>0011-2</td>\n",
       "      <td>Town Mini-Figures</td>\n",
       "      <td>1978</td>\n",
       "      <td>84</td>\n",
       "      <td>12</td>\n",
       "    </tr>\n",
       "    <tr>\n",
       "      <th>2</th>\n",
       "      <td>0011-3</td>\n",
       "      <td>Castle 2 for 1 Bonus Offer</td>\n",
       "      <td>1987</td>\n",
       "      <td>199</td>\n",
       "      <td>0</td>\n",
       "    </tr>\n",
       "    <tr>\n",
       "      <th>3</th>\n",
       "      <td>0012-1</td>\n",
       "      <td>Space Mini-Figures</td>\n",
       "      <td>1979</td>\n",
       "      <td>143</td>\n",
       "      <td>12</td>\n",
       "    </tr>\n",
       "    <tr>\n",
       "      <th>4</th>\n",
       "      <td>0013-1</td>\n",
       "      <td>Space Mini-Figures</td>\n",
       "      <td>1979</td>\n",
       "      <td>143</td>\n",
       "      <td>12</td>\n",
       "    </tr>\n",
       "  </tbody>\n",
       "</table>\n",
       "</div>"
      ],
      "text/plain": [
       "  set_num                        name  year  theme_id  num_parts\n",
       "0   001-1                       Gears  1965         1         43\n",
       "1  0011-2           Town Mini-Figures  1978        84         12\n",
       "2  0011-3  Castle 2 for 1 Bonus Offer  1987       199          0\n",
       "3  0012-1          Space Mini-Figures  1979       143         12\n",
       "4  0013-1          Space Mini-Figures  1979       143         12"
      ]
     },
     "execution_count": 39,
     "metadata": {},
     "output_type": "execute_result"
    }
   ],
   "source": [
    "sets_df.head()"
   ]
  },
  {
   "cell_type": "code",
   "execution_count": 41,
   "id": "49c94238-b5c5-492d-b0a1-e7202f16e2b7",
   "metadata": {},
   "outputs": [
    {
     "data": {
      "text/html": [
       "<div>\n",
       "<style scoped>\n",
       "    .dataframe tbody tr th:only-of-type {\n",
       "        vertical-align: middle;\n",
       "    }\n",
       "\n",
       "    .dataframe tbody tr th {\n",
       "        vertical-align: top;\n",
       "    }\n",
       "\n",
       "    .dataframe thead th {\n",
       "        text-align: right;\n",
       "    }\n",
       "</style>\n",
       "<table border=\"1\" class=\"dataframe\">\n",
       "  <thead>\n",
       "    <tr style=\"text-align: right;\">\n",
       "      <th></th>\n",
       "      <th>set_num</th>\n",
       "      <th>name</th>\n",
       "      <th>year</th>\n",
       "      <th>theme_id</th>\n",
       "      <th>num_parts</th>\n",
       "    </tr>\n",
       "  </thead>\n",
       "  <tbody>\n",
       "    <tr>\n",
       "      <th>15705</th>\n",
       "      <td>wwgp1-1</td>\n",
       "      <td>Wild West Limited Edition Gift Pack</td>\n",
       "      <td>1996</td>\n",
       "      <td>476</td>\n",
       "      <td>0</td>\n",
       "    </tr>\n",
       "    <tr>\n",
       "      <th>15706</th>\n",
       "      <td>XMASTREE-1</td>\n",
       "      <td>Christmas Tree</td>\n",
       "      <td>2019</td>\n",
       "      <td>410</td>\n",
       "      <td>26</td>\n",
       "    </tr>\n",
       "    <tr>\n",
       "      <th>15707</th>\n",
       "      <td>XWING-1</td>\n",
       "      <td>Mini X-Wing Fighter</td>\n",
       "      <td>2019</td>\n",
       "      <td>158</td>\n",
       "      <td>60</td>\n",
       "    </tr>\n",
       "    <tr>\n",
       "      <th>15708</th>\n",
       "      <td>XWING-2</td>\n",
       "      <td>X-Wing Trench Run</td>\n",
       "      <td>2019</td>\n",
       "      <td>158</td>\n",
       "      <td>52</td>\n",
       "    </tr>\n",
       "    <tr>\n",
       "      <th>15709</th>\n",
       "      <td>YODACHRON-1</td>\n",
       "      <td>Yoda Chronicles Promotional Set</td>\n",
       "      <td>2013</td>\n",
       "      <td>158</td>\n",
       "      <td>413</td>\n",
       "    </tr>\n",
       "  </tbody>\n",
       "</table>\n",
       "</div>"
      ],
      "text/plain": [
       "           set_num                                 name  year  theme_id  \\\n",
       "15705      wwgp1-1  Wild West Limited Edition Gift Pack  1996       476   \n",
       "15706   XMASTREE-1                       Christmas Tree  2019       410   \n",
       "15707      XWING-1                  Mini X-Wing Fighter  2019       158   \n",
       "15708      XWING-2                    X-Wing Trench Run  2019       158   \n",
       "15709  YODACHRON-1      Yoda Chronicles Promotional Set  2013       158   \n",
       "\n",
       "       num_parts  \n",
       "15705          0  \n",
       "15706         26  \n",
       "15707         60  \n",
       "15708         52  \n",
       "15709        413  "
      ]
     },
     "execution_count": 41,
     "metadata": {},
     "output_type": "execute_result"
    }
   ],
   "source": [
    "sets_df.tail()"
   ]
  },
  {
   "cell_type": "code",
   "execution_count": 61,
   "id": "996a9993-ce7f-4adb-99c3-72136463c78e",
   "metadata": {},
   "outputs": [],
   "source": [
    "earliest_year = sets_df[\"year\"].min()\n",
    "set_titles = sets_df[sets_df[\"year\"]==earliest_year][\"name\"]"
   ]
  },
  {
   "cell_type": "code",
   "execution_count": 63,
   "id": "6ac817a3-1e8b-408e-bd54-a3cef0691eeb",
   "metadata": {},
   "outputs": [
    {
     "data": {
      "text/plain": [
       "9521           Extra-Large Gift Set (ABB)\n",
       "9534                 Large Gift Set (ABB)\n",
       "9539                Medium Gift Set (ABB)\n",
       "9544                Small Brick Set (ABB)\n",
       "9545    Small Doors and Windows Set (ABB)\n",
       "Name: name, dtype: object"
      ]
     },
     "execution_count": 63,
     "metadata": {},
     "output_type": "execute_result"
    }
   ],
   "source": [
    "set_titles"
   ]
  },
  {
   "cell_type": "code",
   "execution_count": 69,
   "id": "a881484c-7a20-4682-aa14-20bf1de6c969",
   "metadata": {},
   "outputs": [],
   "source": [
    "number_of_products = sets_df[sets_df[\"year\"]==earliest_year][\"set_num\"].nunique()"
   ]
  },
  {
   "cell_type": "code",
   "execution_count": null,
   "id": "ea46f40c-0937-4a1b-9728-eb1245092d67",
   "metadata": {},
   "outputs": [],
   "source": [
    "number_of_products"
   ]
  },
  {
   "cell_type": "code",
   "execution_count": 75,
   "id": "f8411c22-f693-4277-a183-90b0d9de0385",
   "metadata": {},
   "outputs": [
    {
     "data": {
      "text/html": [
       "<div>\n",
       "<style scoped>\n",
       "    .dataframe tbody tr th:only-of-type {\n",
       "        vertical-align: middle;\n",
       "    }\n",
       "\n",
       "    .dataframe tbody tr th {\n",
       "        vertical-align: top;\n",
       "    }\n",
       "\n",
       "    .dataframe thead th {\n",
       "        text-align: right;\n",
       "    }\n",
       "</style>\n",
       "<table border=\"1\" class=\"dataframe\">\n",
       "  <thead>\n",
       "    <tr style=\"text-align: right;\">\n",
       "      <th></th>\n",
       "      <th>set_num</th>\n",
       "      <th>name</th>\n",
       "      <th>year</th>\n",
       "      <th>theme_id</th>\n",
       "      <th>num_parts</th>\n",
       "    </tr>\n",
       "  </thead>\n",
       "  <tbody>\n",
       "    <tr>\n",
       "      <th>15004</th>\n",
       "      <td>BIGBOX-1</td>\n",
       "      <td>The Ultimate Battle for Chima</td>\n",
       "      <td>2015</td>\n",
       "      <td>571</td>\n",
       "      <td>9987</td>\n",
       "    </tr>\n",
       "    <tr>\n",
       "      <th>11183</th>\n",
       "      <td>75192-1</td>\n",
       "      <td>UCS Millennium Falcon</td>\n",
       "      <td>2017</td>\n",
       "      <td>171</td>\n",
       "      <td>7541</td>\n",
       "    </tr>\n",
       "    <tr>\n",
       "      <th>10551</th>\n",
       "      <td>71043-1</td>\n",
       "      <td>Hogwarts Castle</td>\n",
       "      <td>2018</td>\n",
       "      <td>246</td>\n",
       "      <td>6020</td>\n",
       "    </tr>\n",
       "    <tr>\n",
       "      <th>295</th>\n",
       "      <td>10256-1</td>\n",
       "      <td>Taj Mahal</td>\n",
       "      <td>2017</td>\n",
       "      <td>673</td>\n",
       "      <td>5923</td>\n",
       "    </tr>\n",
       "    <tr>\n",
       "      <th>221</th>\n",
       "      <td>10189-1</td>\n",
       "      <td>Taj Mahal</td>\n",
       "      <td>2008</td>\n",
       "      <td>673</td>\n",
       "      <td>5922</td>\n",
       "    </tr>\n",
       "  </tbody>\n",
       "</table>\n",
       "</div>"
      ],
      "text/plain": [
       "        set_num                           name  year  theme_id  num_parts\n",
       "15004  BIGBOX-1  The Ultimate Battle for Chima  2015       571       9987\n",
       "11183   75192-1          UCS Millennium Falcon  2017       171       7541\n",
       "10551   71043-1                Hogwarts Castle  2018       246       6020\n",
       "295     10256-1                      Taj Mahal  2017       673       5923\n",
       "221     10189-1                      Taj Mahal  2008       673       5922"
      ]
     },
     "execution_count": 75,
     "metadata": {},
     "output_type": "execute_result"
    }
   ],
   "source": [
    "sets_df.sort_values(by=[\"num_parts\"],ascending=False).head()"
   ]
  },
  {
   "cell_type": "code",
   "execution_count": 105,
   "id": "69cd133a-8304-4b99-9419-45ad7770a331",
   "metadata": {},
   "outputs": [],
   "source": [
    "sets_by_year = sets_df.groupby(\"year\").count()"
   ]
  },
  {
   "cell_type": "code",
   "execution_count": null,
   "id": "2495351e-c291-4dcc-8f8a-522d3bb60826",
   "metadata": {},
   "outputs": [],
   "source": [
    "sets_by_year"
   ]
  },
  {
   "cell_type": "code",
   "execution_count": 109,
   "id": "7d24d3d8-c8a2-4dc4-b08a-756b2169a83d",
   "metadata": {},
   "outputs": [
    {
     "data": {
      "text/plain": [
       "[<matplotlib.lines.Line2D at 0x2044a806090>]"
      ]
     },
     "execution_count": 109,
     "metadata": {},
     "output_type": "execute_result"
    },
    {
     "data": {
      "image/png": "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",
      "text/plain": [
       "<Figure size 640x480 with 1 Axes>"
      ]
     },
     "metadata": {},
     "output_type": "display_data"
    }
   ],
   "source": [
    "plt.plot(sets_by_year.index[:-2], sets_by_year.num_parts[:-2])"
   ]
  },
  {
   "cell_type": "code",
   "execution_count": 111,
   "id": "a80d4686-183c-4b75-b78e-694b3b3cf0ff",
   "metadata": {},
   "outputs": [],
   "source": [
    "theme_by_year = sets_df.groupby(\"year\").agg({\"theme_id\": pd.Series.nunique})"
   ]
  },
  {
   "cell_type": "code",
   "execution_count": 115,
   "id": "c5b7beb0-a145-4493-8a2a-cd2ad48ebd2e",
   "metadata": {},
   "outputs": [],
   "source": [
    "theme_by_year.rename(columns={\"theme_id\":\"nr_theme\"}, inplace=True)"
   ]
  },
  {
   "cell_type": "code",
   "execution_count": 119,
   "id": "5c5d93bb-09a1-4c0f-929b-17ebc4e436a7",
   "metadata": {},
   "outputs": [
    {
     "data": {
      "text/plain": [
       "[<matplotlib.lines.Line2D at 0x2044c715580>]"
      ]
     },
     "execution_count": 119,
     "metadata": {},
     "output_type": "execute_result"
    },
    {
     "data": {
      "image/png": "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",
      "text/plain": [
       "<Figure size 640x480 with 1 Axes>"
      ]
     },
     "metadata": {},
     "output_type": "display_data"
    }
   ],
   "source": [
    "plt.plot(theme_by_year.index[:-2], theme_by_year.nr_theme[:-2])"
   ]
  },
  {
   "cell_type": "code",
   "execution_count": 133,
   "id": "4035e4bc-75ed-4704-a6d4-02b38d3c3d53",
   "metadata": {},
   "outputs": [
    {
     "data": {
      "text/plain": [
       "Text(0, 0.5, 'Number of Theme')"
      ]
     },
     "execution_count": 133,
     "metadata": {},
     "output_type": "execute_result"
    },
    {
     "data": {
      "image/png": "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",
      "text/plain": [
       "<Figure size 640x480 with 2 Axes>"
      ]
     },
     "metadata": {},
     "output_type": "display_data"
    }
   ],
   "source": [
    "#Plotting two axes\n",
    "ax1 = plt.gca()\n",
    "ax2 = ax1.twinx()\n",
    "ax1.plot(sets_by_year.index[:-2], sets_by_year.num_parts[:-2], color=\"green\")\n",
    "ax2.plot(theme_by_year.index[:-2], theme_by_year.nr_theme[:-2], color=\"blue\")\n",
    "\n",
    "ax1.set_xlabel(\"Year\")\n",
    "ax1.set_ylabel(\"Number of Sets\", color='green')\n",
    "ax2.set_ylabel(\"Number of Theme\", color=\"blue\")"
   ]
  },
  {
   "cell_type": "code",
   "execution_count": 216,
   "id": "0eaa31fa-2a7c-4a85-a085-45ec99dd4d24",
   "metadata": {},
   "outputs": [],
   "source": [
    "parts_per_year = sets_df.groupby(\"year\").agg({\"num_parts\": pd.Series.mean})"
   ]
  },
  {
   "cell_type": "code",
   "execution_count": 151,
   "id": "9e7d96b8-931b-45d1-b3e9-900797b9f75e",
   "metadata": {},
   "outputs": [
    {
     "data": {
      "text/html": [
       "<div>\n",
       "<style scoped>\n",
       "    .dataframe tbody tr th:only-of-type {\n",
       "        vertical-align: middle;\n",
       "    }\n",
       "\n",
       "    .dataframe tbody tr th {\n",
       "        vertical-align: top;\n",
       "    }\n",
       "\n",
       "    .dataframe thead th {\n",
       "        text-align: right;\n",
       "    }\n",
       "</style>\n",
       "<table border=\"1\" class=\"dataframe\">\n",
       "  <thead>\n",
       "    <tr style=\"text-align: right;\">\n",
       "      <th></th>\n",
       "      <th>num_parts</th>\n",
       "    </tr>\n",
       "    <tr>\n",
       "      <th>year</th>\n",
       "      <th></th>\n",
       "    </tr>\n",
       "  </thead>\n",
       "  <tbody>\n",
       "    <tr>\n",
       "      <th>1949</th>\n",
       "      <td>99.600000</td>\n",
       "    </tr>\n",
       "    <tr>\n",
       "      <th>1950</th>\n",
       "      <td>1.000000</td>\n",
       "    </tr>\n",
       "    <tr>\n",
       "      <th>1953</th>\n",
       "      <td>13.500000</td>\n",
       "    </tr>\n",
       "    <tr>\n",
       "      <th>1954</th>\n",
       "      <td>12.357143</td>\n",
       "    </tr>\n",
       "    <tr>\n",
       "      <th>1955</th>\n",
       "      <td>36.607143</td>\n",
       "    </tr>\n",
       "  </tbody>\n",
       "</table>\n",
       "</div>"
      ],
      "text/plain": [
       "      num_parts\n",
       "year           \n",
       "1949  99.600000\n",
       "1950   1.000000\n",
       "1953  13.500000\n",
       "1954  12.357143\n",
       "1955  36.607143"
      ]
     },
     "execution_count": 151,
     "metadata": {},
     "output_type": "execute_result"
    }
   ],
   "source": [
    "parts_per_year.head()"
   ]
  },
  {
   "cell_type": "code",
   "execution_count": 153,
   "id": "15badf27-4246-44b9-b355-fca9f02ca9aa",
   "metadata": {},
   "outputs": [
    {
     "data": {
      "text/html": [
       "<div>\n",
       "<style scoped>\n",
       "    .dataframe tbody tr th:only-of-type {\n",
       "        vertical-align: middle;\n",
       "    }\n",
       "\n",
       "    .dataframe tbody tr th {\n",
       "        vertical-align: top;\n",
       "    }\n",
       "\n",
       "    .dataframe thead th {\n",
       "        text-align: right;\n",
       "    }\n",
       "</style>\n",
       "<table border=\"1\" class=\"dataframe\">\n",
       "  <thead>\n",
       "    <tr style=\"text-align: right;\">\n",
       "      <th></th>\n",
       "      <th>num_parts</th>\n",
       "    </tr>\n",
       "    <tr>\n",
       "      <th>year</th>\n",
       "      <th></th>\n",
       "    </tr>\n",
       "  </thead>\n",
       "  <tbody>\n",
       "    <tr>\n",
       "      <th>2017</th>\n",
       "      <td>221.840967</td>\n",
       "    </tr>\n",
       "    <tr>\n",
       "      <th>2018</th>\n",
       "      <td>213.618873</td>\n",
       "    </tr>\n",
       "    <tr>\n",
       "      <th>2019</th>\n",
       "      <td>207.510714</td>\n",
       "    </tr>\n",
       "    <tr>\n",
       "      <th>2020</th>\n",
       "      <td>259.732938</td>\n",
       "    </tr>\n",
       "    <tr>\n",
       "      <th>2021</th>\n",
       "      <td>0.000000</td>\n",
       "    </tr>\n",
       "  </tbody>\n",
       "</table>\n",
       "</div>"
      ],
      "text/plain": [
       "       num_parts\n",
       "year            \n",
       "2017  221.840967\n",
       "2018  213.618873\n",
       "2019  207.510714\n",
       "2020  259.732938\n",
       "2021    0.000000"
      ]
     },
     "execution_count": 153,
     "metadata": {},
     "output_type": "execute_result"
    }
   ],
   "source": [
    "parts_per_year.tail()"
   ]
  },
  {
   "cell_type": "code",
   "execution_count": 157,
   "id": "aa598562-c77c-42f5-b888-eec6a12df08b",
   "metadata": {},
   "outputs": [
    {
     "data": {
      "text/plain": [
       "<matplotlib.collections.PathCollection at 0x20450d7b860>"
      ]
     },
     "execution_count": 157,
     "metadata": {},
     "output_type": "execute_result"
    },
    {
     "data": {
      "image/png": "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",
      "text/plain": [
       "<Figure size 640x480 with 1 Axes>"
      ]
     },
     "metadata": {},
     "output_type": "display_data"
    }
   ],
   "source": [
    "plt.scatter(parts_per_year.index[:-2], parts_per_year.num_parts[:-2])"
   ]
  },
  {
   "cell_type": "markdown",
   "id": "2112c46e-d4a6-4471-9533-5e960a7bdf82",
   "metadata": {},
   "source": [
    "<img src=\"https://i.imgur.com/Sg4lcjx.png\">"
   ]
  },
  {
   "cell_type": "code",
   "execution_count": 160,
   "id": "f9783456-02b9-4171-aa91-22ca93b40459",
   "metadata": {},
   "outputs": [],
   "source": [
    "themes = pd.read_csv(\"data/themes.csv\")"
   ]
  },
  {
   "cell_type": "code",
   "execution_count": 168,
   "id": "060d218c-fc9a-492f-95ac-61f7792d5364",
   "metadata": {},
   "outputs": [
    {
     "data": {
      "text/html": [
       "<div>\n",
       "<style scoped>\n",
       "    .dataframe tbody tr th:only-of-type {\n",
       "        vertical-align: middle;\n",
       "    }\n",
       "\n",
       "    .dataframe tbody tr th {\n",
       "        vertical-align: top;\n",
       "    }\n",
       "\n",
       "    .dataframe thead th {\n",
       "        text-align: right;\n",
       "    }\n",
       "</style>\n",
       "<table border=\"1\" class=\"dataframe\">\n",
       "  <thead>\n",
       "    <tr style=\"text-align: right;\">\n",
       "      <th></th>\n",
       "      <th>id</th>\n",
       "      <th>name</th>\n",
       "      <th>parent_id</th>\n",
       "    </tr>\n",
       "  </thead>\n",
       "  <tbody>\n",
       "    <tr>\n",
       "      <th>17</th>\n",
       "      <td>18</td>\n",
       "      <td>Star Wars</td>\n",
       "      <td>1.0</td>\n",
       "    </tr>\n",
       "    <tr>\n",
       "      <th>150</th>\n",
       "      <td>158</td>\n",
       "      <td>Star Wars</td>\n",
       "      <td>NaN</td>\n",
       "    </tr>\n",
       "    <tr>\n",
       "      <th>174</th>\n",
       "      <td>209</td>\n",
       "      <td>Star Wars</td>\n",
       "      <td>207.0</td>\n",
       "    </tr>\n",
       "    <tr>\n",
       "      <th>211</th>\n",
       "      <td>261</td>\n",
       "      <td>Star Wars</td>\n",
       "      <td>258.0</td>\n",
       "    </tr>\n",
       "  </tbody>\n",
       "</table>\n",
       "</div>"
      ],
      "text/plain": [
       "      id       name  parent_id\n",
       "17    18  Star Wars        1.0\n",
       "150  158  Star Wars        NaN\n",
       "174  209  Star Wars      207.0\n",
       "211  261  Star Wars      258.0"
      ]
     },
     "execution_count": 168,
     "metadata": {},
     "output_type": "execute_result"
    }
   ],
   "source": [
    "themes[themes[\"name\"]==\"Star Wars\"]"
   ]
  },
  {
   "cell_type": "code",
   "execution_count": 164,
   "id": "cac0f29c-56b8-4e26-8a2f-71033f706ae5",
   "metadata": {},
   "outputs": [
    {
     "data": {
      "text/html": [
       "<div>\n",
       "<style scoped>\n",
       "    .dataframe tbody tr th:only-of-type {\n",
       "        vertical-align: middle;\n",
       "    }\n",
       "\n",
       "    .dataframe tbody tr th {\n",
       "        vertical-align: top;\n",
       "    }\n",
       "\n",
       "    .dataframe thead th {\n",
       "        text-align: right;\n",
       "    }\n",
       "</style>\n",
       "<table border=\"1\" class=\"dataframe\">\n",
       "  <thead>\n",
       "    <tr style=\"text-align: right;\">\n",
       "      <th></th>\n",
       "      <th>id</th>\n",
       "      <th>name</th>\n",
       "      <th>parent_id</th>\n",
       "    </tr>\n",
       "  </thead>\n",
       "  <tbody>\n",
       "    <tr>\n",
       "      <th>591</th>\n",
       "      <td>705</td>\n",
       "      <td>Iron Man</td>\n",
       "      <td>696.0</td>\n",
       "    </tr>\n",
       "    <tr>\n",
       "      <th>592</th>\n",
       "      <td>706</td>\n",
       "      <td>Spider-Man</td>\n",
       "      <td>696.0</td>\n",
       "    </tr>\n",
       "    <tr>\n",
       "      <th>593</th>\n",
       "      <td>707</td>\n",
       "      <td>X-Men</td>\n",
       "      <td>696.0</td>\n",
       "    </tr>\n",
       "    <tr>\n",
       "      <th>594</th>\n",
       "      <td>708</td>\n",
       "      <td>The LEGO Batman Movie</td>\n",
       "      <td>697.0</td>\n",
       "    </tr>\n",
       "    <tr>\n",
       "      <th>595</th>\n",
       "      <td>709</td>\n",
       "      <td>LEGO Art</td>\n",
       "      <td>NaN</td>\n",
       "    </tr>\n",
       "  </tbody>\n",
       "</table>\n",
       "</div>"
      ],
      "text/plain": [
       "      id                   name  parent_id\n",
       "591  705               Iron Man      696.0\n",
       "592  706             Spider-Man      696.0\n",
       "593  707                  X-Men      696.0\n",
       "594  708  The LEGO Batman Movie      697.0\n",
       "595  709               LEGO Art        NaN"
      ]
     },
     "execution_count": 164,
     "metadata": {},
     "output_type": "execute_result"
    }
   ],
   "source": [
    "themes.tail()"
   ]
  },
  {
   "cell_type": "code",
   "execution_count": 204,
   "id": "9313f444-e8fa-4fe2-a40c-aff0fc9ef445",
   "metadata": {},
   "outputs": [],
   "source": [
    "set_theme_count = sets_df[\"theme_id\"].value_counts()"
   ]
  },
  {
   "cell_type": "code",
   "execution_count": 206,
   "id": "cf10d741-ac51-4bbb-93b7-506810f845af",
   "metadata": {},
   "outputs": [
    {
     "data": {
      "text/plain": [
       "theme_id\n",
       "158    753\n",
       "501    656\n",
       "494    398\n",
       "435    356\n",
       "503    329\n",
       "      ... \n",
       "307      1\n",
       "215      1\n",
       "361      1\n",
       "210      1\n",
       "414      1\n",
       "Name: count, Length: 571, dtype: int64"
      ]
     },
     "execution_count": 206,
     "metadata": {},
     "output_type": "execute_result"
    }
   ],
   "source": [
    "set_theme_count"
   ]
  },
  {
   "cell_type": "code",
   "execution_count": 208,
   "id": "814020f0-90ca-4803-880a-178265b805fe",
   "metadata": {},
   "outputs": [],
   "source": [
    "set_theme_count = pd.DataFrame({\n",
    "    \"id\": set_theme_count.index,\n",
    "    \"theme count\": set_theme_count.values\n",
    "})"
   ]
  },
  {
   "cell_type": "code",
   "execution_count": 210,
   "id": "73d2c31d-d7eb-42bf-9156-3a71a5a6d0c8",
   "metadata": {},
   "outputs": [
    {
     "data": {
      "text/html": [
       "<div>\n",
       "<style scoped>\n",
       "    .dataframe tbody tr th:only-of-type {\n",
       "        vertical-align: middle;\n",
       "    }\n",
       "\n",
       "    .dataframe tbody tr th {\n",
       "        vertical-align: top;\n",
       "    }\n",
       "\n",
       "    .dataframe thead th {\n",
       "        text-align: right;\n",
       "    }\n",
       "</style>\n",
       "<table border=\"1\" class=\"dataframe\">\n",
       "  <thead>\n",
       "    <tr style=\"text-align: right;\">\n",
       "      <th></th>\n",
       "      <th>id</th>\n",
       "      <th>theme count</th>\n",
       "    </tr>\n",
       "  </thead>\n",
       "  <tbody>\n",
       "    <tr>\n",
       "      <th>0</th>\n",
       "      <td>158</td>\n",
       "      <td>753</td>\n",
       "    </tr>\n",
       "    <tr>\n",
       "      <th>1</th>\n",
       "      <td>501</td>\n",
       "      <td>656</td>\n",
       "    </tr>\n",
       "    <tr>\n",
       "      <th>2</th>\n",
       "      <td>494</td>\n",
       "      <td>398</td>\n",
       "    </tr>\n",
       "    <tr>\n",
       "      <th>3</th>\n",
       "      <td>435</td>\n",
       "      <td>356</td>\n",
       "    </tr>\n",
       "    <tr>\n",
       "      <th>4</th>\n",
       "      <td>503</td>\n",
       "      <td>329</td>\n",
       "    </tr>\n",
       "    <tr>\n",
       "      <th>...</th>\n",
       "      <td>...</td>\n",
       "      <td>...</td>\n",
       "    </tr>\n",
       "    <tr>\n",
       "      <th>566</th>\n",
       "      <td>307</td>\n",
       "      <td>1</td>\n",
       "    </tr>\n",
       "    <tr>\n",
       "      <th>567</th>\n",
       "      <td>215</td>\n",
       "      <td>1</td>\n",
       "    </tr>\n",
       "    <tr>\n",
       "      <th>568</th>\n",
       "      <td>361</td>\n",
       "      <td>1</td>\n",
       "    </tr>\n",
       "    <tr>\n",
       "      <th>569</th>\n",
       "      <td>210</td>\n",
       "      <td>1</td>\n",
       "    </tr>\n",
       "    <tr>\n",
       "      <th>570</th>\n",
       "      <td>414</td>\n",
       "      <td>1</td>\n",
       "    </tr>\n",
       "  </tbody>\n",
       "</table>\n",
       "<p>571 rows × 2 columns</p>\n",
       "</div>"
      ],
      "text/plain": [
       "      id  theme count\n",
       "0    158          753\n",
       "1    501          656\n",
       "2    494          398\n",
       "3    435          356\n",
       "4    503          329\n",
       "..   ...          ...\n",
       "566  307            1\n",
       "567  215            1\n",
       "568  361            1\n",
       "569  210            1\n",
       "570  414            1\n",
       "\n",
       "[571 rows x 2 columns]"
      ]
     },
     "execution_count": 210,
     "metadata": {},
     "output_type": "execute_result"
    }
   ],
   "source": [
    "set_theme_count"
   ]
  },
  {
   "cell_type": "code",
   "execution_count": 212,
   "id": "2a3e02ac-a591-4ca8-af93-b32867781681",
   "metadata": {},
   "outputs": [],
   "source": [
    "merged_df = pd.merge(set_theme_count, themes, on=\"id\")"
   ]
  },
  {
   "cell_type": "code",
   "execution_count": 214,
   "id": "59c3d120-f01a-47e8-ae98-530c4de4e3ed",
   "metadata": {},
   "outputs": [
    {
     "data": {
      "text/html": [
       "<div>\n",
       "<style scoped>\n",
       "    .dataframe tbody tr th:only-of-type {\n",
       "        vertical-align: middle;\n",
       "    }\n",
       "\n",
       "    .dataframe tbody tr th {\n",
       "        vertical-align: top;\n",
       "    }\n",
       "\n",
       "    .dataframe thead th {\n",
       "        text-align: right;\n",
       "    }\n",
       "</style>\n",
       "<table border=\"1\" class=\"dataframe\">\n",
       "  <thead>\n",
       "    <tr style=\"text-align: right;\">\n",
       "      <th></th>\n",
       "      <th>id</th>\n",
       "      <th>theme count</th>\n",
       "      <th>name</th>\n",
       "      <th>parent_id</th>\n",
       "    </tr>\n",
       "  </thead>\n",
       "  <tbody>\n",
       "    <tr>\n",
       "      <th>0</th>\n",
       "      <td>158</td>\n",
       "      <td>753</td>\n",
       "      <td>Star Wars</td>\n",
       "      <td>NaN</td>\n",
       "    </tr>\n",
       "    <tr>\n",
       "      <th>1</th>\n",
       "      <td>501</td>\n",
       "      <td>656</td>\n",
       "      <td>Gear</td>\n",
       "      <td>NaN</td>\n",
       "    </tr>\n",
       "    <tr>\n",
       "      <th>2</th>\n",
       "      <td>494</td>\n",
       "      <td>398</td>\n",
       "      <td>Friends</td>\n",
       "      <td>NaN</td>\n",
       "    </tr>\n",
       "    <tr>\n",
       "      <th>3</th>\n",
       "      <td>435</td>\n",
       "      <td>356</td>\n",
       "      <td>Ninjago</td>\n",
       "      <td>NaN</td>\n",
       "    </tr>\n",
       "    <tr>\n",
       "      <th>4</th>\n",
       "      <td>503</td>\n",
       "      <td>329</td>\n",
       "      <td>Key Chain</td>\n",
       "      <td>501.0</td>\n",
       "    </tr>\n",
       "  </tbody>\n",
       "</table>\n",
       "</div>"
      ],
      "text/plain": [
       "    id  theme count       name  parent_id\n",
       "0  158          753  Star Wars        NaN\n",
       "1  501          656       Gear        NaN\n",
       "2  494          398    Friends        NaN\n",
       "3  435          356    Ninjago        NaN\n",
       "4  503          329  Key Chain      501.0"
      ]
     },
     "execution_count": 214,
     "metadata": {},
     "output_type": "execute_result"
    }
   ],
   "source": [
    "merged_df.head()"
   ]
  },
  {
   "cell_type": "code",
   "execution_count": 228,
   "id": "00dab2f5-4498-4ff9-ab7b-8fe7b55a369f",
   "metadata": {},
   "outputs": [
    {
     "data": {
      "text/plain": [
       "<BarContainer object of 10 artists>"
      ]
     },
     "execution_count": 228,
     "metadata": {},
     "output_type": "execute_result"
    },
    {
     "data": {
      "image/png": "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",
      "text/plain": [
       "<Figure size 1400x800 with 1 Axes>"
      ]
     },
     "metadata": {},
     "output_type": "display_data"
    }
   ],
   "source": [
    "plt.figure(figsize=(14,8))\n",
    "plt.xticks(fontsize = 14, rotation= 45)\n",
    "plt.yticks(fontsize = 14)\n",
    "plt.xlabel(\"Theme Name\")\n",
    "plt.ylabel(\"Number Of Sets\")\n",
    "plt.bar(merged_df[\"name\"][:10], merged_df[\"theme count\"][:10])"
   ]
  },
  {
   "cell_type": "code",
   "execution_count": null,
   "id": "a72dc5d8-33d8-4d03-99be-d8b57e837cb9",
   "metadata": {},
   "outputs": [],
   "source": []
  }
 ],
 "metadata": {
  "kernelspec": {
   "display_name": "Python 3 (ipykernel)",
   "language": "python",
   "name": "python3"
  },
  "language_info": {
   "codemirror_mode": {
    "name": "ipython",
    "version": 3
   },
   "file_extension": ".py",
   "mimetype": "text/x-python",
   "name": "python",
   "nbconvert_exporter": "python",
   "pygments_lexer": "ipython3",
   "version": "3.12.4"
  }
 },
 "nbformat": 4,
 "nbformat_minor": 5
}
